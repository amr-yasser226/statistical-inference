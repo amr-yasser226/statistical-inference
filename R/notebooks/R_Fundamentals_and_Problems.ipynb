{
  "nbformat": 4,
  "nbformat_minor": 0,
  "metadata": {
    "colab": {
      "provenance": []
    },
    "kernelspec": {
      "name": "ir",
      "display_name": "R"
    },
    "language_info": {
      "name": "R"
    }
  },
  "cells": [
    {
      "cell_type": "markdown",
      "source": [
        "# **Some R Fundamentals**"
      ],
      "metadata": {
        "id": "uXYqEqUaRywS"
      }
    },
    {
      "cell_type": "code",
      "execution_count": null,
      "metadata": {
        "colab": {
          "base_uri": "https://localhost:8080/",
          "height": 34
        },
        "id": "_K5EtBE0P_9S",
        "outputId": "9530c332-b266-4150-ce70-1b8d466b4e19"
      },
      "outputs": [
        {
          "output_type": "display_data",
          "data": {
            "text/html": [
              "2.5"
            ],
            "text/markdown": "2.5",
            "text/latex": "2.5",
            "text/plain": [
              "[1] 2.5"
            ]
          },
          "metadata": {}
        }
      ],
      "source": [
        "x <- c(1, 2, 3, 4)\n",
        "mean(x)"
      ]
    },
    {
      "cell_type": "code",
      "source": [
        "count = 1\n",
        "while (count <= 5){\n",
        "  count = count + 1\n",
        "}\n",
        "print(count)"
      ],
      "metadata": {
        "colab": {
          "base_uri": "https://localhost:8080/"
        },
        "id": "gvcrJEjoQKlo",
        "outputId": "0464db47-26be-40bd-eab5-3210d68ea494"
      },
      "execution_count": null,
      "outputs": [
        {
          "output_type": "stream",
          "name": "stdout",
          "text": [
            "[1] 6\n"
          ]
        }
      ]
    },
    {
      "cell_type": "code",
      "source": [
        "add_sum <- function(a, b) {\n",
        "  return(a+b)\n",
        "}\n",
        "\n",
        "print(add_sum(10, 20))"
      ],
      "metadata": {
        "colab": {
          "base_uri": "https://localhost:8080/"
        },
        "id": "1DfvjFvJRWIx",
        "outputId": "d50e21ee-27bf-4e8b-e339-ca92bee94199"
      },
      "execution_count": null,
      "outputs": [
        {
          "output_type": "stream",
          "name": "stdout",
          "text": [
            "[1] 30\n"
          ]
        }
      ]
    },
    {
      "cell_type": "code",
      "source": [
        "df <- data.frame(\n",
        "  Name = c(\"Amr\", \"Sara\", \"Omar\", \"Laila\", \"Youssef\"),\n",
        "  Year = c(1999, 2001, 1998, 2000, 2002),\n",
        "  Country = c(\"Egypt\", \"Jordan\", \"Morocco\", \"Tunisia\", \"Lebanon\")\n",
        ")\n",
        "\n",
        "print(df)"
      ],
      "metadata": {
        "colab": {
          "base_uri": "https://localhost:8080/"
        },
        "id": "PNNu0quDSiVv",
        "outputId": "a958d495-49f5-4edf-e38b-97834ee7413b"
      },
      "execution_count": null,
      "outputs": [
        {
          "output_type": "stream",
          "name": "stdout",
          "text": [
            "     Name Year Country\n",
            "1     Amr 1999   Egypt\n",
            "2    Sara 2001  Jordan\n",
            "3    Omar 1998 Morocco\n",
            "4   Laila 2000 Tunisia\n",
            "5 Youssef 2002 Lebanon\n"
          ]
        }
      ]
    },
    {
      "cell_type": "markdown",
      "source": [
        "## **Problem Set**\n",
        "\n",
        "This notebook contains my solutions to selected R programming problems.  \n",
        "You can view the original problem definitions here:\n",
        "\n",
        "[**Open R - Problems.pdf**](../resources/R%20-%20Problems.pdf)"
      ],
      "metadata": {
        "id": "xwK2T4mAYxP7"
      }
    },
    {
      "cell_type": "markdown",
      "source": [
        "**Problem 1**"
      ],
      "metadata": {
        "id": "Og4cZK3sSeL3"
      }
    },
    {
      "cell_type": "code",
      "source": [
        "X <- c(2, 4, 6, 8, 10)\n",
        "X <- X + 5\n",
        "print(X)\n",
        "sum_X <- sum(X)\n",
        "cat(\"Sum of the vector:\", sum_X)"
      ],
      "metadata": {
        "id": "VSuJ3TkeTNrr",
        "colab": {
          "base_uri": "https://localhost:8080/"
        },
        "outputId": "5870ba07-c7ae-4b95-ef18-bc1ab8c18f28"
      },
      "execution_count": null,
      "outputs": [
        {
          "output_type": "stream",
          "name": "stdout",
          "text": [
            "[1]  7  9 11 13 15\n",
            "Sum of the vector: 55"
          ]
        }
      ]
    },
    {
      "cell_type": "markdown",
      "source": [
        "**Problem 2**"
      ],
      "metadata": {
        "id": "Vw9gl29Ibihf"
      }
    },
    {
      "cell_type": "code",
      "source": [
        "df <- data.frame(\n",
        "  Name = c(\"John\", \"Lisa\", \"Sara\"),\n",
        "  Age = c(28, 22, 32),\n",
        "  Department = c(\"HR\", \"Finance\", \"Engineering\")\n",
        ")\n",
        "\n",
        "df <- rbind(df, c(\"Mike\", 29, \"Marketing\"))\n",
        "names(df)[2] <- \"Employee_Age\"\n",
        "df$Department <- NULL\n",
        "\n",
        "print(df)"
      ],
      "metadata": {
        "colab": {
          "base_uri": "https://localhost:8080/"
        },
        "id": "Z_k6ZtLlStCa",
        "outputId": "cb312a51-66f6-4f09-ac45-729b5d48b6e2"
      },
      "execution_count": null,
      "outputs": [
        {
          "output_type": "stream",
          "name": "stdout",
          "text": [
            "  Name Employee_Age\n",
            "1 John           28\n",
            "2 Lisa           22\n",
            "3 Sara           32\n",
            "4 Mike           29\n"
          ]
        }
      ]
    },
    {
      "cell_type": "markdown",
      "source": [
        "**Problem 3**"
      ],
      "metadata": {
        "id": "sAgh2bH3b_0R"
      }
    },
    {
      "cell_type": "code",
      "source": [
        "a <- as.numeric(readline(\"Enter first number: \"))\n",
        "b <- as.numeric(readline(\"Enter second number: \"))\n",
        "\n",
        "if (a > b) {\n",
        "  print(\"First number is greater\")\n",
        "} else if (a < b) {\n",
        "  print(\"First number is smaller\")\n",
        "} else {\n",
        "  print(\"Both numbers are equal\")\n",
        "}"
      ],
      "metadata": {
        "colab": {
          "base_uri": "https://localhost:8080/"
        },
        "id": "1RindHF_cCSj",
        "outputId": "4a187e1e-f2d9-4258-bade-0dcafcf680db"
      },
      "execution_count": null,
      "outputs": [
        {
          "output_type": "stream",
          "name": "stdout",
          "text": [
            "Enter first number: 8\n",
            "Enter second number: 5\n",
            "[1] \"First number is greater\"\n"
          ]
        }
      ]
    },
    {
      "cell_type": "markdown",
      "source": [
        "**Problem 4**"
      ],
      "metadata": {
        "id": "VQNx9BhMcRYM"
      }
    },
    {
      "cell_type": "code",
      "source": [
        "nums <- list(3, 7, 2, 9, 5)\n",
        "\n",
        "for (n in nums) {\n",
        "  print(paste(\"Number:\", n, \"Square:\", n^2))\n",
        "}"
      ],
      "metadata": {
        "colab": {
          "base_uri": "https://localhost:8080/"
        },
        "id": "zrl8hOYZcVX9",
        "outputId": "7f140917-90a4-4702-b179-b1432aace11b"
      },
      "execution_count": null,
      "outputs": [
        {
          "output_type": "stream",
          "name": "stdout",
          "text": [
            "[1] \"Number: 3 Square: 9\"\n",
            "[1] \"Number: 7 Square: 49\"\n",
            "[1] \"Number: 2 Square: 4\"\n",
            "[1] \"Number: 9 Square: 81\"\n",
            "[1] \"Number: 5 Square: 25\"\n"
          ]
        }
      ]
    },
    {
      "cell_type": "markdown",
      "source": [
        "**Problem 5**"
      ],
      "metadata": {
        "id": "i_87Ttxlcf-C"
      }
    },
    {
      "cell_type": "code",
      "source": [
        "x <- 10\n",
        "y <- 20\n",
        "z <- readline(\"Enter the zeration: \")\n",
        "\n",
        "if (z == \"a\") {\n",
        "  print(x + y)\n",
        "} else if (z == \"s\") {\n",
        "  print(x - y)\n",
        "} else if (z == \"m\") {\n",
        "  print(x * y)\n",
        "} else if (z == \"d\") {\n",
        "  print(x / y)\n",
        "} else {\n",
        "  print(\"Invalid choice\")\n",
        "}"
      ],
      "metadata": {
        "colab": {
          "base_uri": "https://localhost:8080/"
        },
        "id": "ifjW06eDch_E",
        "outputId": "bb6e96de-bc92-4811-cf3e-d9071e2549ca"
      },
      "execution_count": null,
      "outputs": [
        {
          "output_type": "stream",
          "name": "stdout",
          "text": [
            "Enter the zeration: s\n",
            "[1] -10\n"
          ]
        }
      ]
    }
  ]
}